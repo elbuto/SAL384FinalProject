{
 "cells": [
  {
   "cell_type": "code",
   "execution_count": null,
   "metadata": {},
   "outputs": [],
   "source": [
    "#Reading in the Neccesary Packages\n",
    "from IPython.core.interactiveshell import InteractiveShell\n",
    "InteractiveShell.ast_node_interactivity = \"all\"\n",
    "\n",
    "import pandas as pd\n",
    "import numpy as np\n",
    "import matplotlib.pyplot as plt\n",
    "%matplotlib notebook\n",
    "import seaborn as sns\n",
    "import statsmodels.api as sm\n",
    "import statsmodels.formula.api as smf\n",
    "from urllib.request import urlopen\n",
    "from bs4 import BeautifulSoup"
   ]
  },
  {
   "cell_type": "code",
   "execution_count": null,
   "metadata": {},
   "outputs": [],
   "source": [
    "#Reading in the Neccesary Data (2016-2020 NBA Individual Player Stats), All Data Came From Basketball Reference \n",
    "#Advanced Stats\n",
    "#2020\n",
    "Player2020 = pd.read_csv(\"data/2020Advanced.csv\")\n",
    "new20 = Player2020.Player.str.split(\"\\\\\", expand=True)\n",
    "Player2020['Player'] = new20[0]\n",
    "Player2020['PlayerID'] = new20[1]\n",
    "Player2020['Season'] = 2020\n",
    "Player2020\n",
    "#2019\n",
    "Player2019 = pd.read_csv(\"data/2019Advanced.csv\")\n",
    "new19 = Player2019.Player.str.split(\"\\\\\", expand=True)\n",
    "Player2019['Player'] = new19[0]\n",
    "Player2019['PlayerID'] = new19[1]\n",
    "Player2019['Season'] = 2019\n",
    "Player2019\n",
    "#2018\n",
    "Player2018 = pd.read_csv(\"data/2018Advanced.csv\")\n",
    "new18 = Player2018.Player.str.split(\"\\\\\", expand=True)\n",
    "Player2018['Player'] = new18[0]\n",
    "Player2018['PlayerID'] = new18[1]\n",
    "Player2018['Season'] = 2018\n",
    "Player2018\n",
    "#2017\n",
    "Player2017 = pd.read_csv(\"data/2017Advanced.csv\")\n",
    "new17 = Player2017.Player.str.split(\"\\\\\", expand=True)\n",
    "Player2017['Player'] = new17[0]\n",
    "Player2017['PlayerID'] = new17[1]\n",
    "Player2017['Season'] = 2017\n",
    "Player2017\n",
    "#2016\n",
    "Player2016 = pd.read_csv(\"data/2016Advanced.csv\")\n",
    "new16 = Player2016.Player.str.split(\"\\\\\", expand=True)\n",
    "Player2016['Player'] = new16[0]\n",
    "Player2016['PlayerID'] = new16[1]\n",
    "Player2016['Season'] = 2016\n",
    "Player2016"
   ]
  },
  {
   "cell_type": "code",
   "execution_count": null,
   "metadata": {},
   "outputs": [],
   "source": [
    "#Attempting to Scrape All Total Stats from 2016-2020\n",
    "def scrape_season(season):\n",
    "    url = \"https://www.basketball-reference.com/leagues/NBA_\" + str(season) + \"_totals.html\"\n",
    "    print(url)\n",
    "    html = urlopen(url)\n",
    "    bs = BeautifulSoup(html.read(), 'lxml')\n",
    "    tables = bs.find_all(\"table\", {'class':'sortable'})\n",
    "    stats_tables = pd.read_html(str(tables))\n",
    "    \n",
    "    total_stats = stats_tables[0].copy()\n",
    "    total_stats['Season'] = season\n",
    "    \n",
    "    return(total_stats)\n",
    "\n",
    "import time\n",
    "all_total_stats = pd.DataFrame()\n",
    "\n",
    "seasons = np.arange(2016,2021)\n",
    "for season in seasons:\n",
    "    total_stats = scrape_season(season)\n",
    "    all_total_stats = pd.concat([total_stats, all_total_stats])\n",
    "    time.sleep(np.random.uniform(2,5))\n",
    "    \n",
    "all_total_stats"
   ]
  },
  {
   "cell_type": "code",
   "execution_count": null,
   "metadata": {
    "scrolled": true
   },
   "outputs": [],
   "source": [
    "#Had an Issue Joining the Total Scraped Tables and Advanced CSVs, So Wanted to Try Getting Totals CSVs\n",
    "#Total Stats\n",
    "#2020\n",
    "Total2020 = pd.read_csv(\"data/2020Totals.csv\")\n",
    "newTotal20 = Total2020.Player.str.split(\"\\\\\", expand=True)\n",
    "Total2020['Player'] = newTotal20[0]\n",
    "Total2020['PlayerID'] = newTotal20[1]\n",
    "Total2020\n",
    "#2019\n",
    "Total2019 = pd.read_csv(\"data/2019Totals.csv\")\n",
    "newTotal19 = Total2019.Player.str.split(\"\\\\\", expand=True)\n",
    "Total2019['Player'] = newTotal19[0]\n",
    "Total2019['PlayerID'] = newTotal19[1]\n",
    "Total2019\n",
    "#2018\n",
    "Total2018 = pd.read_csv(\"data/2018Totals.csv\")\n",
    "newTotal18 = Total2018.Player.str.split(\"\\\\\", expand=True)\n",
    "Total2018['Player'] = newTotal18[0]\n",
    "Total2018['PlayerID'] = newTotal18[1]\n",
    "Total2018\n",
    "#2017\n",
    "Total2017 = pd.read_csv(\"data/2017Totals.csv\")\n",
    "newTotal17 = Total2017.Player.str.split(\"\\\\\", expand=True)\n",
    "Total2017['Player'] = newTotal17[0]\n",
    "Total2017['PlayerID'] = newTotal17[1]\n",
    "Total2017\n",
    "#2016\n",
    "Total2016 = pd.read_csv(\"data/2016Totals.csv\")\n",
    "newTotal16 = Total2016.Player.str.split(\"\\\\\", expand=True)\n",
    "Total2016['Player'] = newTotal16[0]\n",
    "Total2016['PlayerID'] = newTotal16[1]\n",
    "Total2016"
   ]
  },
  {
   "cell_type": "code",
   "execution_count": null,
   "metadata": {},
   "outputs": [],
   "source": [
    "#Joining the Advanced Stats With Total (Box Score/Traditional) Stats\n",
    "#2020\n",
    "All2020 = pd.merge(Total2020, Player2020, how = 'inner', on = (['Player', 'Tm']))\n",
    "All2020\n",
    "#2019\n",
    "All2019 = pd.merge(Total2019, Player2019, how = 'inner', on = (['Player', 'Tm']))\n",
    "All2019\n",
    "#2018\n",
    "All2018 = pd.merge(Total2018, Player2018, how = 'inner', on = (['Player', 'Tm']))\n",
    "All2018\n",
    "#2017\n",
    "All2017 = pd.merge(Total2017, Player2017, how = 'inner', on = (['Player', 'Tm']))\n",
    "All2017\n",
    "#2016\n",
    "All2016 = pd.merge(Total2016, Player2016, how = 'inner', on = (['Player', 'Tm']))\n",
    "All2016"
   ]
  },
  {
   "cell_type": "code",
   "execution_count": null,
   "metadata": {},
   "outputs": [],
   "source": [
    "#Stacking All of the Data Sets Together\n",
    "AllPlayers = pd.concat([All2020, All2019, All2018, All2017, All2016])\n",
    "AllPlayers\n",
    "AllPlayers = AllPlayers.set_index('Player')\n",
    "AllPlayers"
   ]
  },
  {
   "cell_type": "code",
   "execution_count": null,
   "metadata": {},
   "outputs": [],
   "source": [
    "#Dropping Other Advanced Stats and Unneeded Columns\n",
    "AllPlayers = AllPlayers.drop(['Rk', 'Pos_x', 'Age_x', 'Tm', 'G_x', 'GS', 'MP_x', 'PlayerID_x', 'Pos_y', 'Age_y', 'G_y', 'PlayerID_y', 'Rk▲'], axis=1)\n",
    "AllPlayers"
   ]
  },
  {
   "cell_type": "code",
   "execution_count": null,
   "metadata": {},
   "outputs": [],
   "source": [
    "#Writing Final Dataset to CSV\n",
    "AllPlayers.to_csv(\"data/AllPlayers.csv\")"
   ]
  },
  {
   "cell_type": "code",
   "execution_count": null,
   "metadata": {},
   "outputs": [],
   "source": [
    "#Boxplot of BPM Over Last 5 Years\n",
    "AllPlayers.boxplot(column = 'BPM')"
   ]
  },
  {
   "cell_type": "code",
   "execution_count": null,
   "metadata": {},
   "outputs": [],
   "source": [
    "#Scatter Plot Matrix\n",
    "AllPlayers_selected_data = AllPlayers[['FG', 'FT', 'TOV', 'PF']]\n",
    "AllPlayers_selected_data\n",
    "\n",
    "sns.pairplot(AllPlayers_selected_data, diag_kind = \"kde\", kind = \"reg\", \n",
    "             plot_kws={'line_kws':{'color':'red'}})"
   ]
  },
  {
   "cell_type": "code",
   "execution_count": null,
   "metadata": {},
   "outputs": [],
   "source": [
    "#Creating the Model\n",
    "bpm_ols_formula = \"BPM ~ FG + Q('FG%') + Q('3P') + Q('3P%') + FT + Q('FT%') + ORB + DRB + AST + STL + BLK + TOV + PF\" \n",
    "bpm_ols_model = smf.ols(formula = bpm_ols_formula, data = AllPlayers).fit()\n",
    "bpm_ols_model.summary()"
   ]
  },
  {
   "cell_type": "code",
   "execution_count": null,
   "metadata": {},
   "outputs": [],
   "source": [
    "AllPlayers['Players'] = AllPlayers.index\n",
    "AllPlayers"
   ]
  },
  {
   "cell_type": "code",
   "execution_count": null,
   "metadata": {},
   "outputs": [],
   "source": [
    "#Plotting Residuals vs Fitted Values\n",
    "residuals = bpm_ols_model.resid\n",
    "fitted = bpm_ols_model.fittedvalues\n",
    "top2 = abs(residuals).sort_values(ascending = False)[:2]\n",
    "\n",
    "fig, ax = plt.subplots()\n",
    "ax.scatter(fitted, residuals, edgecolors=\"k\", facecolors=\"none\")\n",
    "ax.set_ylabel(\"Residual\")\n",
    "ax.set_xlabel(\"Fitted Values\")\n",
    "ax.plot([min(fitted),max(fitted)], [0,0], color=\"k\", linestyle=\":\", alpha = 0.3)\n",
    "\n",
    "for i in top2.index:\n",
    "    ax.annotate(str(AllPlayers.Players[i]) + \" \" + str(AllPlayers.Players[i]), xy=(fitted[i], residuals[i] +0.002), size=9)    "
   ]
  }
 ],
 "metadata": {
  "kernelspec": {
   "display_name": "Python 3",
   "language": "python",
   "name": "python3"
  },
  "language_info": {
   "codemirror_mode": {
    "name": "ipython",
    "version": 3
   },
   "file_extension": ".py",
   "mimetype": "text/x-python",
   "name": "python",
   "nbconvert_exporter": "python",
   "pygments_lexer": "ipython3",
   "version": "3.8.5"
  }
 },
 "nbformat": 4,
 "nbformat_minor": 4
}
